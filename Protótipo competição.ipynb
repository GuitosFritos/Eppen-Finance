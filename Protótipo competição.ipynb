{
 "cells": [
  {
   "cell_type": "code",
   "execution_count": 1,
   "metadata": {},
   "outputs": [
    {
     "name": "stderr",
     "output_type": "stream",
     "text": [
      "C:\\Users\\ggoncalves\\Anaconda3\\lib\\site-packages\\pandas_datareader\\compat\\__init__.py:7: FutureWarning: pandas.util.testing is deprecated. Use the functions in the public API at pandas.testing instead.\n",
      "  from pandas.util.testing import assert_frame_equal\n"
     ]
    }
   ],
   "source": [
    "import pandas as pd\n",
    "import numpy as np\n",
    "import matplotlib.pyplot as plt\n",
    "from pandas_datareader import data as wb"
   ]
  },
  {
   "cell_type": "code",
   "execution_count": 2,
   "metadata": {},
   "outputs": [
    {
     "data": {
      "text/html": [
       "<div>\n",
       "<style scoped>\n",
       "    .dataframe tbody tr th:only-of-type {\n",
       "        vertical-align: middle;\n",
       "    }\n",
       "\n",
       "    .dataframe tbody tr th {\n",
       "        vertical-align: top;\n",
       "    }\n",
       "\n",
       "    .dataframe thead th {\n",
       "        text-align: right;\n",
       "    }\n",
       "</style>\n",
       "<table border=\"1\" class=\"dataframe\">\n",
       "  <thead>\n",
       "    <tr style=\"text-align: right;\">\n",
       "      <th></th>\n",
       "      <th>João</th>\n",
       "      <th>Pedro</th>\n",
       "      <th>Carlos</th>\n",
       "      <th>Amanda</th>\n",
       "    </tr>\n",
       "  </thead>\n",
       "  <tbody>\n",
       "    <tr>\n",
       "      <th>0</th>\n",
       "      <td>B3SA3.SA</td>\n",
       "      <td>GUAR3.SA</td>\n",
       "      <td>B3SA3.SA</td>\n",
       "      <td>VVAR3.SA</td>\n",
       "    </tr>\n",
       "    <tr>\n",
       "      <th>1</th>\n",
       "      <td>VVAR3.SA</td>\n",
       "      <td>LREN3.SA</td>\n",
       "      <td>MOVI3.SA</td>\n",
       "      <td>MOVI3.SA</td>\n",
       "    </tr>\n",
       "    <tr>\n",
       "      <th>2</th>\n",
       "      <td>GUAR3.SA</td>\n",
       "      <td>VVAR3.SA</td>\n",
       "      <td>RENT3.SA</td>\n",
       "      <td>MGLU3.SA</td>\n",
       "    </tr>\n",
       "    <tr>\n",
       "      <th>3</th>\n",
       "      <td>MGLU3.SA</td>\n",
       "      <td>B3SA3.SA</td>\n",
       "      <td>MGLU3.SA</td>\n",
       "      <td>GUAR3.SA</td>\n",
       "    </tr>\n",
       "  </tbody>\n",
       "</table>\n",
       "</div>"
      ],
      "text/plain": [
       "       João     Pedro    Carlos    Amanda\n",
       "0  B3SA3.SA  GUAR3.SA  B3SA3.SA  VVAR3.SA\n",
       "1  VVAR3.SA  LREN3.SA  MOVI3.SA  MOVI3.SA\n",
       "2  GUAR3.SA  VVAR3.SA  RENT3.SA  MGLU3.SA\n",
       "3  MGLU3.SA  B3SA3.SA  MGLU3.SA  GUAR3.SA"
      ]
     },
     "execution_count": 2,
     "metadata": {},
     "output_type": "execute_result"
    }
   ],
   "source": [
    "data=pd.read_excel('Competição.xlsx')\n",
    "data"
   ]
  },
  {
   "cell_type": "code",
   "execution_count": 3,
   "metadata": {},
   "outputs": [],
   "source": [
    "joao=pd.DataFrame()\n",
    "for i in data['João']:\n",
    "    joao[i]=wb.DataReader(i, data_source='yahoo', start='2020-6-1') ['Adj Close']\n",
    "joao=(joao/joao.iloc[0])-1\n",
    "joao=sum(joao.iloc[-1])/len(joao.iloc[-1])\n",
    "\n",
    "pedro=pd.DataFrame()\n",
    "for i in data['Pedro']:\n",
    "    pedro[i]=wb.DataReader(i, data_source='yahoo', start='2020-6-1') ['Adj Close']\n",
    "pedro=(pedro/pedro.iloc[0])-1\n",
    "pedro=sum(pedro.iloc[-1])/len(pedro.iloc[-1])\n",
    "\n",
    "carlos=pd.DataFrame()\n",
    "for i in data['Carlos']:\n",
    "    carlos[i]=wb.DataReader(i, data_source='yahoo', start='2020-6-1') ['Adj Close']\n",
    "carlos=(carlos/carlos.iloc[0])-1\n",
    "carlos=sum(carlos.iloc[-1])/len(carlos.iloc[-1])\n",
    "\n",
    "amanda=pd.DataFrame()\n",
    "for i in data['Amanda']:\n",
    "    amanda[i]=wb.DataReader(i, data_source='yahoo', start='2020-6-1') ['Adj Close']\n",
    "amanda=(amanda/amanda.iloc[0])-1\n",
    "amanda=sum(amanda.iloc[-1])/len(amanda.iloc[-1])"
   ]
  },
  {
   "cell_type": "code",
   "execution_count": 4,
   "metadata": {},
   "outputs": [],
   "source": [
    "result={'Nomes':['João','Pedro','Carlos','Amanda'], 'Desempenho':[joao,pedro,carlos,amanda]}"
   ]
  },
  {
   "cell_type": "code",
   "execution_count": 5,
   "metadata": {},
   "outputs": [
    {
     "data": {
      "text/html": [
       "<div>\n",
       "<style scoped>\n",
       "    .dataframe tbody tr th:only-of-type {\n",
       "        vertical-align: middle;\n",
       "    }\n",
       "\n",
       "    .dataframe tbody tr th {\n",
       "        vertical-align: top;\n",
       "    }\n",
       "\n",
       "    .dataframe thead th {\n",
       "        text-align: right;\n",
       "    }\n",
       "</style>\n",
       "<table border=\"1\" class=\"dataframe\">\n",
       "  <thead>\n",
       "    <tr style=\"text-align: right;\">\n",
       "      <th></th>\n",
       "      <th>Nomes</th>\n",
       "      <th>Desempenho</th>\n",
       "    </tr>\n",
       "  </thead>\n",
       "  <tbody>\n",
       "    <tr>\n",
       "      <th>1</th>\n",
       "      <td>Pedro</td>\n",
       "      <td>0.125319</td>\n",
       "    </tr>\n",
       "    <tr>\n",
       "      <th>3</th>\n",
       "      <td>Amanda</td>\n",
       "      <td>0.118453</td>\n",
       "    </tr>\n",
       "    <tr>\n",
       "      <th>0</th>\n",
       "      <td>João</td>\n",
       "      <td>0.111103</td>\n",
       "    </tr>\n",
       "    <tr>\n",
       "      <th>2</th>\n",
       "      <td>Carlos</td>\n",
       "      <td>0.091296</td>\n",
       "    </tr>\n",
       "  </tbody>\n",
       "</table>\n",
       "</div>"
      ],
      "text/plain": [
       "    Nomes  Desempenho\n",
       "1   Pedro    0.125319\n",
       "3  Amanda    0.118453\n",
       "0    João    0.111103\n",
       "2  Carlos    0.091296"
      ]
     },
     "execution_count": 5,
     "metadata": {},
     "output_type": "execute_result"
    }
   ],
   "source": [
    "result=pd.DataFrame(result)\n",
    "result=result.sort_values('Desempenho',ascending=False)\n",
    "result"
   ]
  },
  {
   "cell_type": "markdown",
   "metadata": {},
   "source": [
    "# Quem será o vencedor?"
   ]
  },
  {
   "cell_type": "code",
   "execution_count": 6,
   "metadata": {},
   "outputs": [
    {
     "name": "stdout",
     "output_type": "stream",
     "text": [
      "O grande vencedor foi o Pedro com uma rentabilidade de: 12.53%\n"
     ]
    }
   ],
   "source": [
    "print('O grande vencedor foi o ' + result.iloc[0][0] + ' com uma rentabilidade de: ' + str(round(result.iloc[0][1]*100,2)) +'%')"
   ]
  },
  {
   "cell_type": "markdown",
   "metadata": {},
   "source": [
    "# Comparação gráfica:"
   ]
  },
  {
   "cell_type": "code",
   "execution_count": 9,
   "metadata": {},
   "outputs": [
    {
     "data": {
      "image/png": "[encoded data removed]",
      "text/plain": [
       "<Figure size 1080x576 with 1 Axes>"
      ]
     },
     "metadata": {},
     "output_type": "display_data"
    }
   ],
   "source": [
    "plt.style.use('dark_background')\n",
    "plt.figure(figsize=(15,8))\n",
    "plt.bar(result['Nomes'],result['Desempenho'],color='green')\n",
    "plt.ylabel('Rentabilidade');\n",
    "plt.title('Eppen Challenge');"
   ]
  }
 ],
 "metadata": {
  "kernelspec": {
   "display_name": "Python 3",
   "language": "python",
   "name": "python3"
  },
  "language_info": {
   "codemirror_mode": {
    "name": "ipython",
    "version": 3
   },
   "file_extension": ".py",
   "mimetype": "text/x-python",
   "name": "python",
   "nbconvert_exporter": "python",
   "pygments_lexer": "ipython3",
   "version": "3.7.6"
  }
 },
 "nbformat": 4,
 "nbformat_minor": 4
}
