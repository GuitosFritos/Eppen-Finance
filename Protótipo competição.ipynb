{
 "cells": [
  {
   "cell_type": "code",
   "execution_count": 1,
   "metadata": {},
   "outputs": [
    {
     "name": "stderr",
     "output_type": "stream",
     "text": [
      "C:\\Users\\ggoncalves\\Anaconda3\\lib\\site-packages\\pandas_datareader\\compat\\__init__.py:7: FutureWarning: pandas.util.testing is deprecated. Use the functions in the public API at pandas.testing instead.\n",
      "  from pandas.util.testing import assert_frame_equal\n"
     ]
    }
   ],
   "source": [
    "import pandas as pd\n",
    "import numpy as np\n",
    "import matplotlib.pyplot as plt\n",
    "from pandas_datareader import data as wb"
   ]
  },
  {
   "cell_type": "code",
   "execution_count": 2,
   "metadata": {},
   "outputs": [
    {
     "data": {
      "text/html": [
       "<div>\n",
       "<style scoped>\n",
       "    .dataframe tbody tr th:only-of-type {\n",
       "        vertical-align: middle;\n",
       "    }\n",
       "\n",
       "    .dataframe tbody tr th {\n",
       "        vertical-align: top;\n",
       "    }\n",
       "\n",
       "    .dataframe thead th {\n",
       "        text-align: right;\n",
       "    }\n",
       "</style>\n",
       "<table border=\"1\" class=\"dataframe\">\n",
       "  <thead>\n",
       "    <tr style=\"text-align: right;\">\n",
       "      <th></th>\n",
       "      <th>Integrante</th>\n",
       "      <th>Ação 1</th>\n",
       "      <th>Ação 2</th>\n",
       "      <th>Ação 3</th>\n",
       "      <th>Ação 4</th>\n",
       "    </tr>\n",
       "  </thead>\n",
       "  <tbody>\n",
       "    <tr>\n",
       "      <th>0</th>\n",
       "      <td>Pedro</td>\n",
       "      <td>GUAR3.SA</td>\n",
       "      <td>LREN3.SA</td>\n",
       "      <td>VVAR3.SA</td>\n",
       "      <td>B3SA3.SA</td>\n",
       "    </tr>\n",
       "    <tr>\n",
       "      <th>1</th>\n",
       "      <td>João</td>\n",
       "      <td>B3SA3.SA</td>\n",
       "      <td>VVAR3.SA</td>\n",
       "      <td>GUAR3.SA</td>\n",
       "      <td>MGLU3.SA</td>\n",
       "    </tr>\n",
       "    <tr>\n",
       "      <th>2</th>\n",
       "      <td>Carlos</td>\n",
       "      <td>B3SA3.SA</td>\n",
       "      <td>MOVI3.SA</td>\n",
       "      <td>RENT3.SA</td>\n",
       "      <td>MGLU3.SA</td>\n",
       "    </tr>\n",
       "    <tr>\n",
       "      <th>3</th>\n",
       "      <td>Amanda</td>\n",
       "      <td>VVAR3.SA</td>\n",
       "      <td>MOVI3.SA</td>\n",
       "      <td>MGLU3.SA</td>\n",
       "      <td>GUAR3.SA</td>\n",
       "    </tr>\n",
       "  </tbody>\n",
       "</table>\n",
       "</div>"
      ],
      "text/plain": [
       "  Integrante    Ação 1    Ação 2    Ação 3    Ação 4\n",
       "0      Pedro  GUAR3.SA  LREN3.SA  VVAR3.SA  B3SA3.SA\n",
       "1       João  B3SA3.SA  VVAR3.SA  GUAR3.SA  MGLU3.SA\n",
       "2     Carlos  B3SA3.SA  MOVI3.SA  RENT3.SA  MGLU3.SA\n",
       "3     Amanda  VVAR3.SA  MOVI3.SA  MGLU3.SA  GUAR3.SA"
      ]
     },
     "execution_count": 2,
     "metadata": {},
     "output_type": "execute_result"
    }
   ],
   "source": [
    "data=pd.read_excel('Competição.xlsx')\n",
    "data"
   ]
  },
  {
   "cell_type": "code",
   "execution_count": 5,
   "metadata": {},
   "outputs": [],
   "source": [
    "rentabilidade=[]\n",
    "rent=[0]"
   ]
  },
  {
   "cell_type": "code",
   "execution_count": 6,
   "metadata": {},
   "outputs": [],
   "source": [
    "for j in range(len(data)):\n",
    "    for i in range(len(data)):\n",
    "        rent[i]=np.mean(wb.DataReader(data.iloc[j][1+i], data_source='yahoo', start='2020-6-1')['Adj Close'])\n",
    "    rentabilidade.append(np.mean(rent))"
   ]
  },
  {
   "cell_type": "code",
   "execution_count": 7,
   "metadata": {},
   "outputs": [],
   "source": [
    "data['Rentabilidade']=rentabilidade"
   ]
  },
  {
   "cell_type": "code",
   "execution_count": 8,
   "metadata": {},
   "outputs": [
    {
     "data": {
      "text/html": [
       "<div>\n",
       "<style scoped>\n",
       "    .dataframe tbody tr th:only-of-type {\n",
       "        vertical-align: middle;\n",
       "    }\n",
       "\n",
       "    .dataframe tbody tr th {\n",
       "        vertical-align: top;\n",
       "    }\n",
       "\n",
       "    .dataframe thead th {\n",
       "        text-align: right;\n",
       "    }\n",
       "</style>\n",
       "<table border=\"1\" class=\"dataframe\">\n",
       "  <thead>\n",
       "    <tr style=\"text-align: right;\">\n",
       "      <th></th>\n",
       "      <th>Integrante</th>\n",
       "      <th>Ação 1</th>\n",
       "      <th>Ação 2</th>\n",
       "      <th>Ação 3</th>\n",
       "      <th>Ação 4</th>\n",
       "      <th>Rentabilidade</th>\n",
       "    </tr>\n",
       "  </thead>\n",
       "  <tbody>\n",
       "    <tr>\n",
       "      <th>0</th>\n",
       "      <td>Pedro</td>\n",
       "      <td>GUAR3.SA</td>\n",
       "      <td>LREN3.SA</td>\n",
       "      <td>VVAR3.SA</td>\n",
       "      <td>B3SA3.SA</td>\n",
       "      <td>31.096429</td>\n",
       "    </tr>\n",
       "    <tr>\n",
       "      <th>1</th>\n",
       "      <td>João</td>\n",
       "      <td>B3SA3.SA</td>\n",
       "      <td>VVAR3.SA</td>\n",
       "      <td>GUAR3.SA</td>\n",
       "      <td>MGLU3.SA</td>\n",
       "      <td>36.275714</td>\n",
       "    </tr>\n",
       "    <tr>\n",
       "      <th>2</th>\n",
       "      <td>Carlos</td>\n",
       "      <td>B3SA3.SA</td>\n",
       "      <td>MOVI3.SA</td>\n",
       "      <td>RENT3.SA</td>\n",
       "      <td>MGLU3.SA</td>\n",
       "      <td>41.974286</td>\n",
       "    </tr>\n",
       "    <tr>\n",
       "      <th>3</th>\n",
       "      <td>Amanda</td>\n",
       "      <td>VVAR3.SA</td>\n",
       "      <td>MOVI3.SA</td>\n",
       "      <td>MGLU3.SA</td>\n",
       "      <td>GUAR3.SA</td>\n",
       "      <td>27.186071</td>\n",
       "    </tr>\n",
       "  </tbody>\n",
       "</table>\n",
       "</div>"
      ],
      "text/plain": [
       "  Integrante    Ação 1    Ação 2    Ação 3    Ação 4  Rentabilidade\n",
       "0      Pedro  GUAR3.SA  LREN3.SA  VVAR3.SA  B3SA3.SA      31.096429\n",
       "1       João  B3SA3.SA  VVAR3.SA  GUAR3.SA  MGLU3.SA      36.275714\n",
       "2     Carlos  B3SA3.SA  MOVI3.SA  RENT3.SA  MGLU3.SA      41.974286\n",
       "3     Amanda  VVAR3.SA  MOVI3.SA  MGLU3.SA  GUAR3.SA      27.186071"
      ]
     },
     "execution_count": 8,
     "metadata": {},
     "output_type": "execute_result"
    }
   ],
   "source": [
    "data"
   ]
  },
  {
   "cell_type": "markdown",
   "metadata": {},
   "source": [
    "# Comparação gráfica:"
   ]
  },
  {
   "cell_type": "code",
   "execution_count": 14,
   "metadata": {},
   "outputs": [
    {
     "data": {
      "image/png": "[encoded data removed]",
      "text/plain": [
       "<Figure size 1080x576 with 1 Axes>"
      ]
     },
     "metadata": {},
     "output_type": "display_data"
    }
   ],
   "source": [
    "plt.style.use('dark_background')\n",
    "plt.figure(figsize=(15,8))\n",
    "plt.bar(data['Integrante'],data['Rentabilidade'],color='green')\n",
    "plt.ylabel('Rentabilidade');\n",
    "plt.title('Eppen Challenge');"
   ]
  }
 ],
 "metadata": {
  "kernelspec": {
   "display_name": "Python 3",
   "language": "python",
   "name": "python3"
  },
  "language_info": {
   "codemirror_mode": {
    "name": "ipython",
    "version": 3
   },
   "file_extension": ".py",
   "mimetype": "text/x-python",
   "name": "python",
   "nbconvert_exporter": "python",
   "pygments_lexer": "ipython3",
   "version": "3.7.6"
  }
 },
 "nbformat": 4,
 "nbformat_minor": 4
}
