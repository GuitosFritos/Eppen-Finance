{
 "cells": [
  {
   "cell_type": "code",
   "execution_count": 1,
   "metadata": {},
   "outputs": [],
   "source": [
    "import pandas as pd\n",
    "import numpy as np\n",
    "import matplotlib.pyplot as plt\n",
    "from pandas_datareader import data as wb"
   ]
  },
  {
   "cell_type": "code",
   "execution_count": 2,
   "metadata": {},
   "outputs": [
    {
     "data": {
      "text/html": [
       "<div>\n",
       "<style scoped>\n",
       "    .dataframe tbody tr th:only-of-type {\n",
       "        vertical-align: middle;\n",
       "    }\n",
       "\n",
       "    .dataframe tbody tr th {\n",
       "        vertical-align: top;\n",
       "    }\n",
       "\n",
       "    .dataframe thead th {\n",
       "        text-align: right;\n",
       "    }\n",
       "</style>\n",
       "<table border=\"1\" class=\"dataframe\">\n",
       "  <thead>\n",
       "    <tr style=\"text-align: right;\">\n",
       "      <th></th>\n",
       "      <th>Integrante</th>\n",
       "      <th>Ação 1</th>\n",
       "      <th>Ação 2</th>\n",
       "      <th>Ação 3</th>\n",
       "      <th>Ação 4</th>\n",
       "    </tr>\n",
       "  </thead>\n",
       "  <tbody>\n",
       "    <tr>\n",
       "      <th>0</th>\n",
       "      <td>Chaves</td>\n",
       "      <td>VIVA3.SA</td>\n",
       "      <td>LINX3.SA</td>\n",
       "      <td>ENAT3.SA</td>\n",
       "      <td>BBAS3.SA</td>\n",
       "    </tr>\n",
       "    <tr>\n",
       "      <th>1</th>\n",
       "      <td>Bona</td>\n",
       "      <td>PSSA3.SA</td>\n",
       "      <td>KLBN3.SA</td>\n",
       "      <td>ARZZ3.SA</td>\n",
       "      <td>BBDC3.SA</td>\n",
       "    </tr>\n",
       "    <tr>\n",
       "      <th>2</th>\n",
       "      <td>Gleicy</td>\n",
       "      <td>VVAR3.SA</td>\n",
       "      <td>AZUL4.SA</td>\n",
       "      <td>LAME4.SA</td>\n",
       "      <td>HGTX3.SA</td>\n",
       "    </tr>\n",
       "    <tr>\n",
       "      <th>3</th>\n",
       "      <td>Michel</td>\n",
       "      <td>COGN3.SA</td>\n",
       "      <td>BBAS3.SA</td>\n",
       "      <td>IGTA3.SA</td>\n",
       "      <td>PETR4.SA</td>\n",
       "    </tr>\n",
       "    <tr>\n",
       "      <th>4</th>\n",
       "      <td>Pedro</td>\n",
       "      <td>BBAS3.SA</td>\n",
       "      <td>PETR4.SA</td>\n",
       "      <td>GGBR4.SA</td>\n",
       "      <td>VVAR3.SA</td>\n",
       "    </tr>\n",
       "    <tr>\n",
       "      <th>5</th>\n",
       "      <td>Gabriel</td>\n",
       "      <td>HGTX3.SA</td>\n",
       "      <td>HGTX3.SA</td>\n",
       "      <td>HGTX3.SA</td>\n",
       "      <td>HGTX3.SA</td>\n",
       "    </tr>\n",
       "  </tbody>\n",
       "</table>\n",
       "</div>"
      ],
      "text/plain": [
       "  Integrante    Ação 1    Ação 2    Ação 3    Ação 4\n",
       "0     Chaves  VIVA3.SA  LINX3.SA  ENAT3.SA  BBAS3.SA\n",
       "1       Bona  PSSA3.SA  KLBN3.SA  ARZZ3.SA  BBDC3.SA\n",
       "2     Gleicy  VVAR3.SA  AZUL4.SA  LAME4.SA  HGTX3.SA\n",
       "3     Michel  COGN3.SA  BBAS3.SA  IGTA3.SA  PETR4.SA\n",
       "4      Pedro  BBAS3.SA  PETR4.SA  GGBR4.SA  VVAR3.SA\n",
       "5    Gabriel  HGTX3.SA  HGTX3.SA  HGTX3.SA  HGTX3.SA"
      ]
     },
     "execution_count": 2,
     "metadata": {},
     "output_type": "execute_result"
    }
   ],
   "source": [
    "data=pd.read_excel('Competição.xlsx')\n",
    "data"
   ]
  },
  {
   "cell_type": "code",
   "execution_count": 3,
   "metadata": {},
   "outputs": [],
   "source": [
    "rentabilidade=[]\n",
    "rent=[0]*4"
   ]
  },
  {
   "cell_type": "code",
   "execution_count": 4,
   "metadata": {},
   "outputs": [],
   "source": [
    "for j in range(len(data)):\n",
    "    for i in range(4):\n",
    "        a=wb.DataReader(data.iloc[j][1+i], data_source='yahoo', start='2020-7-13')['Adj Close']\n",
    "        rent[i]=round(((a[-1]/a[0])-1)*100,2)\n",
    "    rentabilidade.append(np.mean(rent))"
   ]
  },
  {
   "cell_type": "code",
   "execution_count": 5,
   "metadata": {},
   "outputs": [],
   "source": [
    "data['Rentabilidade']=rentabilidade"
   ]
  },
  {
   "cell_type": "code",
   "execution_count": 6,
   "metadata": {},
   "outputs": [
    {
     "data": {
      "text/html": [
       "<div>\n",
       "<style scoped>\n",
       "    .dataframe tbody tr th:only-of-type {\n",
       "        vertical-align: middle;\n",
       "    }\n",
       "\n",
       "    .dataframe tbody tr th {\n",
       "        vertical-align: top;\n",
       "    }\n",
       "\n",
       "    .dataframe thead th {\n",
       "        text-align: right;\n",
       "    }\n",
       "</style>\n",
       "<table border=\"1\" class=\"dataframe\">\n",
       "  <thead>\n",
       "    <tr style=\"text-align: right;\">\n",
       "      <th></th>\n",
       "      <th>Integrante</th>\n",
       "      <th>Ação 1</th>\n",
       "      <th>Ação 2</th>\n",
       "      <th>Ação 3</th>\n",
       "      <th>Ação 4</th>\n",
       "      <th>Rentabilidade</th>\n",
       "    </tr>\n",
       "  </thead>\n",
       "  <tbody>\n",
       "    <tr>\n",
       "      <th>0</th>\n",
       "      <td>Chaves</td>\n",
       "      <td>VIVA3.SA</td>\n",
       "      <td>LINX3.SA</td>\n",
       "      <td>ENAT3.SA</td>\n",
       "      <td>BBAS3.SA</td>\n",
       "      <td>1.8075</td>\n",
       "    </tr>\n",
       "    <tr>\n",
       "      <th>1</th>\n",
       "      <td>Bona</td>\n",
       "      <td>PSSA3.SA</td>\n",
       "      <td>KLBN3.SA</td>\n",
       "      <td>ARZZ3.SA</td>\n",
       "      <td>BBDC3.SA</td>\n",
       "      <td>1.8550</td>\n",
       "    </tr>\n",
       "    <tr>\n",
       "      <th>2</th>\n",
       "      <td>Gleicy</td>\n",
       "      <td>VVAR3.SA</td>\n",
       "      <td>AZUL4.SA</td>\n",
       "      <td>LAME4.SA</td>\n",
       "      <td>HGTX3.SA</td>\n",
       "      <td>3.2525</td>\n",
       "    </tr>\n",
       "    <tr>\n",
       "      <th>3</th>\n",
       "      <td>Michel</td>\n",
       "      <td>COGN3.SA</td>\n",
       "      <td>BBAS3.SA</td>\n",
       "      <td>IGTA3.SA</td>\n",
       "      <td>PETR4.SA</td>\n",
       "      <td>2.4150</td>\n",
       "    </tr>\n",
       "    <tr>\n",
       "      <th>4</th>\n",
       "      <td>Pedro</td>\n",
       "      <td>BBAS3.SA</td>\n",
       "      <td>PETR4.SA</td>\n",
       "      <td>GGBR4.SA</td>\n",
       "      <td>VVAR3.SA</td>\n",
       "      <td>3.5650</td>\n",
       "    </tr>\n",
       "    <tr>\n",
       "      <th>5</th>\n",
       "      <td>Gabriel</td>\n",
       "      <td>HGTX3.SA</td>\n",
       "      <td>HGTX3.SA</td>\n",
       "      <td>HGTX3.SA</td>\n",
       "      <td>HGTX3.SA</td>\n",
       "      <td>-2.3100</td>\n",
       "    </tr>\n",
       "  </tbody>\n",
       "</table>\n",
       "</div>"
      ],
      "text/plain": [
       "  Integrante    Ação 1    Ação 2    Ação 3    Ação 4  Rentabilidade\n",
       "0     Chaves  VIVA3.SA  LINX3.SA  ENAT3.SA  BBAS3.SA         1.8075\n",
       "1       Bona  PSSA3.SA  KLBN3.SA  ARZZ3.SA  BBDC3.SA         1.8550\n",
       "2     Gleicy  VVAR3.SA  AZUL4.SA  LAME4.SA  HGTX3.SA         3.2525\n",
       "3     Michel  COGN3.SA  BBAS3.SA  IGTA3.SA  PETR4.SA         2.4150\n",
       "4      Pedro  BBAS3.SA  PETR4.SA  GGBR4.SA  VVAR3.SA         3.5650\n",
       "5    Gabriel  HGTX3.SA  HGTX3.SA  HGTX3.SA  HGTX3.SA        -2.3100"
      ]
     },
     "execution_count": 6,
     "metadata": {},
     "output_type": "execute_result"
    }
   ],
   "source": [
    "data"
   ]
  },
  {
   "cell_type": "markdown",
   "metadata": {},
   "source": [
    "# Comparação gráfica:"
   ]
  },
  {
   "cell_type": "code",
   "execution_count": 8,
   "metadata": {},
   "outputs": [
    {
     "data": {
      "image/png": "[encoded data removed]",
      "text/plain": [
       "<Figure size 1080x576 with 1 Axes>"
      ]
     },
     "metadata": {},
     "output_type": "display_data"
    }
   ],
   "source": [
    "plt.style.use('dark_background')\n",
    "plt.figure(figsize=(15,8))\n",
    "plt.bar(data['Integrante'],data['Rentabilidade'],color='green')\n",
    "plt.ylabel('Rentabilidade em %');\n",
    "plt.title('Eppen Challenge');"
   ]
  }
 ],
 "metadata": {
  "kernelspec": {
   "display_name": "Python 3",
   "language": "python",
   "name": "python3"
  },
  "language_info": {
   "codemirror_mode": {
    "name": "ipython",
    "version": 3
   },
   "file_extension": ".py",
   "mimetype": "text/x-python",
   "name": "python",
   "nbconvert_exporter": "python",
   "pygments_lexer": "ipython3",
   "version": "3.7.3"
  }
 },
 "nbformat": 4,
 "nbformat_minor": 4
}
